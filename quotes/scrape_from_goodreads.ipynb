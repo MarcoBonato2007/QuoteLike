{
 "cells": [
  {
   "cell_type": "code",
   "execution_count": 25,
   "id": "ff37e590",
   "metadata": {},
   "outputs": [],
   "source": [
    "# This notebook scrapes popular quotes from goodreads\n",
    "# The result is stored in the .txt file"
   ]
  },
  {
   "cell_type": "code",
   "execution_count": 26,
   "id": "dd5e3619",
   "metadata": {},
   "outputs": [],
   "source": [
    "import requests\n",
    "from bs4 import BeautifulSoup, SoupStrainer\n",
    "import json"
   ]
  },
  {
   "cell_type": "code",
   "execution_count": 27,
   "id": "aaa4d235",
   "metadata": {},
   "outputs": [
    {
     "name": "stdout",
     "output_type": "stream",
     "text": [
      "Current page: 1\n",
      "Current page: 2\n",
      "Current page: 3\n",
      "Current page: 4\n",
      "Current page: 5\n",
      "Current page: 6\n",
      "Current page: 7\n",
      "Current page: 8\n",
      "Current page: 9\n",
      "Current page: 10\n",
      "Current page: 11\n",
      "Current page: 12\n",
      "Current page: 13\n",
      "Current page: 14\n",
      "Current page: 15\n",
      "Current page: 16\n",
      "Current page: 17\n",
      "Current page: 18\n",
      "Current page: 19\n",
      "Current page: 20\n",
      "Current page: 21\n",
      "Current page: 22\n",
      "Current page: 23\n",
      "Current page: 24\n",
      "Current page: 25\n",
      "Current page: 26\n",
      "Current page: 27\n",
      "Current page: 28\n",
      "Current page: 29\n",
      "Current page: 30\n",
      "Current page: 31\n",
      "Current page: 32\n",
      "Current page: 33\n",
      "Current page: 34\n",
      "Current page: 35\n",
      "Current page: 36\n",
      "Current page: 37\n",
      "Current page: 38\n",
      "Current page: 39\n",
      "Current page: 40\n",
      "Current page: 41\n",
      "Current page: 42\n",
      "Current page: 43\n",
      "Current page: 44\n",
      "Current page: 45\n",
      "Current page: 46\n",
      "Current page: 47\n",
      "Current page: 48\n",
      "Current page: 49\n",
      "Current page: 50\n",
      "Current page: 51\n",
      "Current page: 52\n",
      "Current page: 53\n",
      "Current page: 54\n",
      "Current page: 55\n",
      "Current page: 56\n",
      "Current page: 57\n",
      "Current page: 58\n",
      "Current page: 59\n",
      "Current page: 60\n",
      "Current page: 61\n",
      "Current page: 62\n",
      "Current page: 63\n",
      "Current page: 64\n",
      "Current page: 65\n",
      "Current page: 66\n",
      "Current page: 67\n",
      "Current page: 68\n",
      "Current page: 69\n",
      "Current page: 70\n",
      "Current page: 71\n",
      "Current page: 72\n",
      "Current page: 73\n",
      "Current page: 74\n",
      "Current page: 75\n",
      "Current page: 76\n",
      "Current page: 77\n",
      "Current page: 78\n",
      "Current page: 79\n",
      "Current page: 80\n",
      "Current page: 81\n",
      "Current page: 82\n",
      "Current page: 83\n",
      "Current page: 84\n",
      "Current page: 85\n",
      "Current page: 86\n",
      "Current page: 87\n",
      "Current page: 88\n",
      "Current page: 89\n",
      "Current page: 90\n",
      "Current page: 91\n",
      "Current page: 92\n",
      "Current page: 93\n",
      "Current page: 94\n",
      "Current page: 95\n",
      "Current page: 96\n",
      "Current page: 97\n",
      "Current page: 98\n",
      "Current page: 99\n",
      "Current page: 100\n"
     ]
    }
   ],
   "source": [
    "NUM_PAGES_TO_SCRAPE = 100 # There are only max 100 pages, after that it repeats\n",
    "\n",
    "all_tags = []\n",
    "\n",
    "for i in range(1, min(NUM_PAGES_TO_SCRAPE, 100)+1):\n",
    "    print(f\"Current page: {i}\")\n",
    "\n",
    "    web_request = requests.get(\n",
    "        f\"https://www.goodreads.com/quotes?page={i}\",\n",
    "        headers = {\"User-Agent\": \"Mozilla/5.0 (Windows NT 10.0; Win64; x64) AppleWebKit/537.36 (KHTML, like Gecko) Chrome/140.0.0.0 Safari/537.36\"}\n",
    "    )\n",
    "    \n",
    "    if web_request.status_code != 200:\n",
    "        print(f\"Failed fetch for page {i}\")\n",
    "        continue\n",
    "\n",
    "    page_content = web_request.content.decode()\n",
    "    parser = BeautifulSoup(page_content, parse_only=SoupStrainer('div'))\n",
    "    quote_tags = parser.find_all(\"div\", attrs={\"class\": \"quoteText\"})\n",
    "    all_tags.extend(quote_tags)"
   ]
  },
  {
   "cell_type": "code",
   "execution_count": 65,
   "id": "e6828624",
   "metadata": {},
   "outputs": [],
   "source": [
    "all_quotes = []\n",
    "\n",
    "for tag in all_tags:\n",
    "    quote = tag.__str__().split(\"\\n\")[1].strip().strip(\"“\").strip(\"”\").replace(\"<br/>\", \"\\n\").replace(\"\\n\\n\", \"\\n\")\n",
    "    author = tag.find(\"span\").text.strip().strip(\",\")\n",
    "\n",
    "    if quote.startswith(\"Don't touch any of my weapons without my permission.\"):\n",
    "        saved_tag = tag\n",
    "\n",
    "    if tag.find(\"a\"):\n",
    "        source = tag.find(\"a\").text\n",
    "        author += f\", {source}\"\n",
    "\n",
    "    all_quotes.append((quote, author))"
   ]
  },
  {
   "cell_type": "code",
   "execution_count": 66,
   "id": "5e00b6b1",
   "metadata": {},
   "outputs": [],
   "source": [
    "filtered_quotes = []\n",
    "\n",
    "for quote, author in all_quotes:\n",
    "    if len(quote) <= 250 and len(author) <= 100:\n",
    "        try:\n",
    "            quote.encode(\"ascii\") # Don't accept special characters\n",
    "            author.encode(\"ascii\")\n",
    "            filtered_quotes.append((quote, author))\n",
    "        except UnicodeEncodeError:\n",
    "            pass"
   ]
  },
  {
   "cell_type": "code",
   "execution_count": 67,
   "id": "5594624a",
   "metadata": {},
   "outputs": [
    {
     "name": "stdout",
     "output_type": "stream",
     "text": [
      "Number of quotes scraped: 2353\n"
     ]
    }
   ],
   "source": [
    "print(f\"Number of quotes scraped: {len(filtered_quotes)}\")"
   ]
  },
  {
   "cell_type": "code",
   "execution_count": 68,
   "id": "5ab01f19",
   "metadata": {},
   "outputs": [],
   "source": [
    "with open(\"quotes.txt\", \"w\") as quotes_file:\n",
    "    formatted_filtered_quotes = json.dumps(filtered_quotes, indent=4)\n",
    "    quotes_file.write(formatted_filtered_quotes)"
   ]
  }
 ],
 "metadata": {
  "kernelspec": {
   "display_name": "Python 3",
   "language": "python",
   "name": "python3"
  },
  "language_info": {
   "codemirror_mode": {
    "name": "ipython",
    "version": 3
   },
   "file_extension": ".py",
   "mimetype": "text/x-python",
   "name": "python",
   "nbconvert_exporter": "python",
   "pygments_lexer": "ipython3",
   "version": "3.13.7"
  }
 },
 "nbformat": 4,
 "nbformat_minor": 5
}
